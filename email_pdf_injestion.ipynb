{
  "nbformat": 4,
  "nbformat_minor": 0,
  "metadata": {
    "colab": {
      "provenance": [],
      "authorship_tag": "ABX9TyO2oUmjmJZVJ3exmJw0fSdn",
      "include_colab_link": true
    },
    "kernelspec": {
      "name": "python3",
      "display_name": "Python 3"
    },
    "language_info": {
      "name": "python"
    }
  },
  "cells": [
    {
      "cell_type": "markdown",
      "metadata": {
        "id": "view-in-github",
        "colab_type": "text"
      },
      "source": [
        "<a href=\"https://colab.research.google.com/github/HariBhuvana/SimpleUI/blob/main/email_pdf_injestion.ipynb\" target=\"_parent\"><img src=\"https://colab.research.google.com/assets/colab-badge.svg\" alt=\"Open In Colab\"/></a>"
      ]
    },
    {
      "cell_type": "code",
      "execution_count": 3,
      "metadata": {
        "colab": {
          "base_uri": "https://localhost:8080/"
        },
        "id": "bfvrJ7IccRDZ",
        "outputId": "b26bae33-ef13-463b-cf53-baaf5a2661d2"
      },
      "outputs": [
        {
          "output_type": "stream",
          "name": "stdout",
          "text": [
            "Collecting python-dotenv\n",
            "  Downloading python_dotenv-1.0.1-py3-none-any.whl.metadata (23 kB)\n",
            "Downloading python_dotenv-1.0.1-py3-none-any.whl (19 kB)\n",
            "Installing collected packages: python-dotenv\n",
            "Successfully installed python-dotenv-1.0.1\n"
          ]
        }
      ],
      "source": [
        "!pip install python-dotenv\n",
        "import os\n",
        "import imaplib\n",
        "import email\n",
        "from email.header import decode_header\n",
        "import sqlite3\n",
        "from dotenv import load_dotenv"
      ]
    },
    {
      "cell_type": "code",
      "source": [
        "load_dotenv()"
      ],
      "metadata": {
        "colab": {
          "base_uri": "https://localhost:8080/"
        },
        "id": "4zvGkhUjcs4d",
        "outputId": "94eb0d48-3fbf-4322-996a-e2d559fae991"
      },
      "execution_count": 4,
      "outputs": [
        {
          "output_type": "execute_result",
          "data": {
            "text/plain": [
              "False"
            ]
          },
          "metadata": {},
          "execution_count": 4
        }
      ]
    },
    {
      "cell_type": "code",
      "source": [
        "os.makedirs(\"./pdfs\", exist_ok=True)\n",
        "os.makedirs(\"./config\", exist_ok=True)\n"
      ],
      "metadata": {
        "id": "m1O4-NLWdEkd"
      },
      "execution_count": 5,
      "outputs": []
    },
    {
      "cell_type": "code",
      "source": [
        "conn = sqlite3.connect(\"./config/email_accounts.db\")\n",
        "c = conn.cursor()\n",
        "c.execute(\"\"\"\n",
        "CREATE TABLE IF NOT EXISTS email_accounts (\n",
        "    id INTEGER PRIMARY KEY AUTOINCREMENT,\n",
        "    email TEXT NOT NULL,\n",
        "    password TEXT NOT NULL,\n",
        "    imap_server TEXT NOT NULL\n",
        ")\n",
        "\"\"\")\n",
        "conn.commit()\n",
        "\n",
        "def add_email_account(email, password, imap_server):\n",
        "    \"\"\"Add a new email account to the database.\"\"\"\n",
        "    try:\n",
        "        c.execute(\n",
        "            \"INSERT INTO email_accounts (email, password, imap_server) VALUES (?, ?, ?)\",\n",
        "            (email, password, imap_server)\n",
        "        )\n",
        "        conn.commit()\n",
        "        print(f\"✅ Added account: {email}\")\n",
        "    except sqlite3.Error as db_error:\n",
        "        print(f\"❌ Database error while adding account: {db_error}\")\n",
        "    except Exception as e:\n",
        "        print(f\"❌ Unexpected error: {e}\")\n",
        "\n",
        "def fetch_pdfs():\n",
        "    \"\"\"Fetch PDFs from all configured email accounts.\"\"\"\n",
        "    c.execute(\"SELECT email, password, imap_server FROM email_accounts\")\n",
        "    accounts = c.fetchall()\n",
        "\n",
        "    if not accounts:\n",
        "        print(\"⚠️ No email accounts configured.\")\n",
        "        return\n",
        "\n",
        "    for email_user, email_pass, imap_server in accounts:\n",
        "        print(f\"\\n📧 Checking emails for: {email_user}\")\n",
        "\n",
        "        try:\n",
        "            # Connect to the email server\n",
        "            mail = imaplib.IMAP4_SSL(imap_server)\n",
        "            mail.login(email_user, email_pass)\n",
        "            mail.select(\"inbox\")\n",
        "\n",
        "            # Search for all emails\n",
        "            status, messages = mail.search(None, 'ALL')\n",
        "            if status != \"OK\":\n",
        "                print(f\"⚠️ No messages found for {email_user}\")\n",
        "                continue\n",
        "\n",
        "            for num in messages[0].split():\n",
        "                try:\n",
        "                    _, msg = mail.fetch(num, '(RFC822)')\n",
        "                    for response_part in msg:\n",
        "                        if isinstance(response_part, tuple):\n",
        "                            # Parse email\n",
        "                            msg = email.message_from_bytes(response_part[1])\n",
        "                            subject, encoding = decode_header(msg.get(\"Subject\"))[0]\n",
        "                            if isinstance(subject, bytes):\n",
        "                                subject = subject.decode(encoding if encoding else 'utf-8')\n",
        "\n",
        "                            from_address = msg.get(\"From\")\n",
        "                            date_received = msg.get(\"Date\")\n",
        "\n",
        "                            # Process attachments\n",
        "                            for part in msg.walk():\n",
        "                                if part.get_content_maintype() == 'multipart':\n",
        "                                    continue\n",
        "                                if part.get('Content-Disposition') and 'attachment' in part.get('Content-Disposition'):\n",
        "                                    filename = part.get_filename()\n",
        "                                    if filename and filename.endswith('.pdf'):\n",
        "                                        filepath = os.path.join(\"./pdfs\", filename)\n",
        "                                        if not os.path.exists(filepath):\n",
        "                                            with open(filepath, \"wb\") as f:\n",
        "                                                f.write(part.get_payload(decode=True))\n",
        "                                            print(f\"📥 Downloaded: {filename} from {from_address} on {date_received}\")\n",
        "                                        else:\n",
        "                                            print(f\"⚠️ Skipped existing file: {filename}\")\n",
        "                except Exception as msg_error:\n",
        "                    print(f\"❌ Error processing email {num} for {email_user}: {msg_error}\")\n",
        "\n",
        "            mail.close()\n",
        "            mail.logout()\n",
        "\n",
        "        except imaplib.IMAP4.error as imap_error:\n",
        "            print(f\"❌ IMAP error for {email_user}: {imap_error}\")\n",
        "        except Exception as e:\n",
        "            print(f\"❌ Unexpected error for {email_user}: {e}\")"
      ],
      "metadata": {
        "id": "yV4F1pSCdI8v"
      },
      "execution_count": 6,
      "outputs": []
    },
    {
      "cell_type": "code",
      "source": [
        "if __name__ == \"__main__\":\n",
        "  add_email_account(\n",
        "      email=os.getenv(\"EMAIL\"),\n",
        "      password=os.getenv(\"PASSWORD\"),\n",
        "      imap_server=os.getenv(\"IMAP_SERVER\")\n",
        "  )\n",
        "\n",
        "fetch_pdfs()\n"
      ],
      "metadata": {
        "colab": {
          "base_uri": "https://localhost:8080/"
        },
        "id": "xlDZ0jqudejt",
        "outputId": "6f2306eb-d5fb-48f5-b3ff-5466863a4a82"
      },
      "execution_count": 12,
      "outputs": [
        {
          "output_type": "stream",
          "name": "stdout",
          "text": [
            "❌ Database error while adding account: NOT NULL constraint failed: email_accounts.email\n",
            "⚠️ No email accounts configured.\n"
          ]
        }
      ]
    }
  ]
}